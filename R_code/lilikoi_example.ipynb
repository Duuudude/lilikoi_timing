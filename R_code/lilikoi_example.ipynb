{
 "cells": [
  {
   "cell_type": "code",
   "execution_count": 2,
   "metadata": {},
   "outputs": [
    {
     "name": "stderr",
     "output_type": "stream",
     "text": [
      "Updating HTML index of packages in '.Library'\n",
      "Making 'packages.html' ... done\n",
      "Updating HTML index of packages in '.Library'\n",
      "Making 'packages.html' ... done\n",
      "Updating HTML index of packages in '.Library'\n",
      "Making 'packages.html' ... done\n",
      "Updating HTML index of packages in '.Library'\n",
      "Making 'packages.html' ... done\n",
      "also installing the dependencies ‘ini’, ‘clisymbols’, ‘fs’, ‘gh’, ‘rprojroot’, ‘rex’, ‘crosstalk’, ‘xopen’, ‘brew’, ‘commonmark’, ‘praise’, ‘usethis’, ‘covr’, ‘desc’, ‘DT’, ‘git2r’, ‘memoise’, ‘pkgbuild’, ‘pkgload’, ‘rcmdcheck’, ‘remotes’, ‘roxygen2’, ‘rversions’, ‘sessioninfo’, ‘testthat’\n",
      "\n",
      "Warning message in install.packages(\"devtools\"):\n",
      "“installation of package ‘fs’ had non-zero exit status”Warning message in install.packages(\"devtools\"):\n",
      "“installation of package ‘git2r’ had non-zero exit status”Warning message in install.packages(\"devtools\"):\n",
      "“installation of package ‘usethis’ had non-zero exit status”Warning message in install.packages(\"devtools\"):\n",
      "“installation of package ‘devtools’ had non-zero exit status”Updating HTML index of packages in '.Library'\n",
      "Making 'packages.html' ... done\n",
      "also installing the dependency ‘rlang’\n",
      "\n",
      "Updating HTML index of packages in '.Library'\n",
      "Making 'packages.html' ... done\n",
      "Warning message in install.packages(\"rJava\", , \"http://rforge.net/\", type = \"source\"):\n",
      "“installation of package ‘rJava’ had non-zero exit status”Updating HTML index of packages in '.Library'\n",
      "Making 'packages.html' ... done\n",
      "also installing the dependencies ‘RWekajars’, ‘rJava’\n",
      "\n",
      "Warning message in install.packages(\"RWeka\"):\n",
      "“installation of package ‘rJava’ had non-zero exit status”Warning message in install.packages(\"RWeka\"):\n",
      "“installation of package ‘RWekajars’ had non-zero exit status”Warning message in install.packages(\"RWeka\"):\n",
      "“installation of package ‘RWeka’ had non-zero exit status”Updating HTML index of packages in '.Library'\n",
      "Making 'packages.html' ... done\n",
      "Updating HTML index of packages in '.Library'\n",
      "Making 'packages.html' ... done\n",
      "Updating HTML index of packages in '.Library'\n",
      "Making 'packages.html' ... done\n",
      "Updating HTML index of packages in '.Library'\n",
      "Making 'packages.html' ... done\n",
      "Updating HTML index of packages in '.Library'\n",
      "Making 'packages.html' ... done\n",
      "also installing the dependencies ‘checkmate’, ‘Formula’, ‘latticeExtra’, ‘acepack’, ‘gridExtra’, ‘htmlTable’, ‘viridis’\n",
      "\n",
      "Updating HTML index of packages in '.Library'\n",
      "Making 'packages.html' ... done\n",
      "Updating HTML index of packages in '.Library'\n",
      "Making 'packages.html' ... done\n",
      "Updating HTML index of packages in '.Library'\n",
      "Making 'packages.html' ... done\n",
      "Updating HTML index of packages in '.Library'\n",
      "Making 'packages.html' ... done\n",
      "Updating HTML index of packages in '.Library'\n",
      "Making 'packages.html' ... done\n",
      "Warning message in install.packages(\"e1071\"):\n",
      "“installation of package ‘e1071’ had non-zero exit status”Updating HTML index of packages in '.Library'\n",
      "Making 'packages.html' ... done\n",
      "Updating HTML index of packages in '.Library'\n",
      "Making 'packages.html' ... done\n"
     ]
    },
    {
     "ename": "ERROR",
     "evalue": "Error: With R version 3.5 or greater, install Bioconductor packages using BiocManager; see https://bioconductor.org/install\n",
     "output_type": "error",
     "traceback": [
      "Error: With R version 3.5 or greater, install Bioconductor packages using BiocManager; see https://bioconductor.org/install\nTraceback:\n",
      "1. source(\"https://bioconductor.org/biocLite.R\")",
      "2. withVisible(eval(ei, envir))",
      "3. eval(ei, envir)",
      "4. eval(ei, envir)",
      "5. local({\n .     vers <- getRversion()\n .     if (vers >= \"3.6\") {\n .         stop(\"With R version 3.5 or greater, install Bioconductor \", \n .             \"packages using BiocManager; see https://bioconductor.org/install\", \n .             call. = FALSE)\n .     }\n .     biocVers <- tryCatch({\n .         BiocInstaller::biocVersion()\n .     }, error = function(...) {\n .         BioC_version_associated_with_R_version <- get(\".BioC_version_associated_with_R_version\", \n .             envir = asNamespace(\"tools\"), inherits = FALSE)\n .         if (is.function(BioC_version_associated_with_R_version)) \n .             BioC_version_associated_with_R_version()\n .         else BioC_version_associated_with_R_version\n .     })\n .     if (vers < \"3.0\") {\n .         txt <- strwrap(\"A new version of Bioconductor is available\\n            after installing the most recent version of R; see\\n            http://bioconductor.org/install\", \n .             exdent = 2)\n .         message(paste(txt, collapse = \"\\n\"))\n .     }\n .     else if (\"package:BiocInstaller\" %in% search()) {\n .         tryCatch(BiocInstaller:::.onAttach(), error = function(...) NULL)\n .     }\n .     if (vers > \"2.13\" && biocVers > \"2.8\") {\n .         if (exists(\"biocLite\", .GlobalEnv, inherits = FALSE)) {\n .             txt <- strwrap(\"There is an outdated biocLite() function in the\\n                global environment; run 'rm(biocLite)' and try again.\")\n .             stop(\"\\n\", paste(txt, collapse = \"\\n\"))\n .         }\n .         if (!suppressWarnings(require(\"BiocInstaller\", quietly = TRUE))) {\n .             a <- NULL\n .             p <- file.path(Sys.getenv(\"HOME\"), \".R\", \"repositories\")\n .             if (file.exists(p)) {\n .                 a <- tools:::.read_repositories(p)\n .                 if (!\"BioCsoft\" %in% rownames(a)) \n .                   a <- NULL\n .             }\n .             if (is.null(a)) {\n .                 p <- file.path(R.home(\"etc\"), \"repositories\")\n .                 a <- tools:::.read_repositories(p)\n .             }\n .             if (!\"package:utils\" %in% search()) {\n .                 path <- \"//bioconductor.org/biocLite.R\"\n .                 txt <- sprintf(\"use 'source(\\\"https:%s\\\")' or\\n                    'source(\\\"http:%s\\\")' to update 'BiocInstaller' after\\n                    library(\\\"utils\\\")\", \n .                   path, path)\n .                 message(paste(strwrap(txt), collapse = \"\\n  \"))\n .             }\n .             else {\n .                 if (vers >= \"3.2.2\" && vers < \"3.3.0\") {\n .                   con <- file(fl <- tempfile(), \"w\")\n .                   sink(con, type = \"message\")\n .                   tryCatch({\n .                     xx <- close(file(\"https://bioconductor.org\"))\n .                   }, error = function(e) {\n .                     message(conditionMessage(e))\n .                   })\n .                   sink(type = \"message\")\n .                   close(con)\n .                   if (!length(readLines(fl))) \n .                     a[\"BioCsoft\", \"URL\"] <- sub(\"^http:\", \"https:\", \n .                       a[\"BioCsoft\", \"URL\"])\n .                 }\n .                 if (vers >= \"3.5.0\") {\n .                   a[\"BioCsoft\", \"URL\"] <- sub(as.character(biocVers), \n .                     \"3.7\", a[\"BioCsoft\", \"URL\"])\n .                 }\n .                 else if (vers >= \"3.4.0\") {\n .                   a[\"BioCsoft\", \"URL\"] <- sub(as.character(biocVers), \n .                     \"3.6\", a[\"BioCsoft\", \"URL\"])\n .                 }\n .                 else if (vers >= \"3.3.0\") {\n .                   a[\"BioCsoft\", \"URL\"] <- sub(as.character(biocVers), \n .                     \"3.4\", a[\"BioCsoft\", \"URL\"])\n .                 }\n .                 else if (vers >= \"3.2\") {\n .                   a[\"BioCsoft\", \"URL\"] <- sub(as.character(biocVers), \n .                     \"3.2\", a[\"BioCsoft\", \"URL\"])\n .                 }\n .                 else if (vers == \"3.1.1\") {\n .                   a[\"BioCsoft\", \"URL\"] <- sub(as.character(biocVers), \n .                     \"3.0\", a[\"BioCsoft\", \"URL\"])\n .                 }\n .                 else if (vers == \"3.1.0\") {\n .                   a[\"BioCsoft\", \"URL\"] <- sub(as.character(biocVers), \n .                     \"2.14\", a[\"BioCsoft\", \"URL\"])\n .                 }\n .                 else if (vers >= \"2.15\" && vers < \"2.16\") {\n .                   a[\"BioCsoft\", \"URL\"] <- sub(as.character(biocVers), \n .                     \"2.11\", a[\"BioCsoft\", \"URL\"])\n .                   biocVers <- numeric_version(\"2.11\")\n .                 }\n .                 install.packages(\"BiocInstaller\", repos = a[\"BioCsoft\", \n .                   \"URL\"])\n .                 if (!suppressWarnings(require(\"BiocInstaller\", \n .                   quietly = TRUE))) {\n .                   path0 <- \"//bioconductor.org/packages\"\n .                   path <- sprintf(\"%s/%s/bioc\", path0, as.character(biocVers))\n .                   txt0 <- \"'biocLite.R' failed to install 'BiocInstaller',\\n                        use 'install.packages(\\\"BiocInstaller\\\",\\n                        repos=\\\"https:%s\\\")' or\\n                        'install.packages(\\\"BiocInstaller\\\", repos=\\\"http:%s\\\")'\"\n .                   txt <- sprintf(txt0, path, path)\n .                   message(paste(strwrap(txt), collapse = \"\\n  \"))\n .                 }\n .             }\n .         }\n .         else {\n .             installerVersion <- utils::packageVersion(\"BiocInstaller\")\n .             test0 <- (vers > \"3.1.2\") && !identical(getOption(\"pkgType\"), \n .                 \"source\") && (installerVersion >= \"1.16.0\") && \n .                 (installerVersion <= \"1.16.4\")\n .             if (test0) {\n .                 if (installerVersion < \"1.16.4\") {\n .                   txt <- \"Update BiocInstaller with\\n                         oldPkgType=options(pkgType=\\\"source\\\");\\n                         biocLite(\\\"BiocInstaller\\\"); options(oldPkgType)\"\n .                   message(paste(strwrap(txt, exdent = 2), collapse = \"\\n\"))\n .                 }\n .                 if (vers >= \"3.2\") {\n .                   path <- \"//bioconductor.org/biocLite.R\"\n .                   txt <- sprintf(\"BiocInstaller version %s is too old for\\n                         R version %s; remove.packages(\\\"BiocInstaller\\\"),\\n                         re-start R, then source(\\\"https:%s\\\") or\\n                         source(\\\"http:%s\\\")\", \n .                     biocVers, vers, path, path)\n .                   warning(paste(strwrap(txt, exdent = 2), collapse = \"\\n\"))\n .                 }\n .             }\n .         }\n .     }\n .     else {\n .         tryCatch({\n .             source(\"https://bioconductor.org/getBioC.R\")\n .         }, error = function(e) {\n .             warning(\"https: failed (\", conditionMessage(e), \"), trying http\", \n .                 immediate. = TRUE)\n .             source(\"http://bioconductor.org/getBioC.R\")\n .         })\n .         biocLite <<- function(pkgs, groupName = \"lite\", ...) {\n .             if (missing(pkgs)) \n .                 biocinstall(groupName = groupName, ...)\n .             else biocinstall(pkgs = pkgs, groupName = groupName, \n .                 ...)\n .         }\n .     }\n . })",
      "6. eval.parent(substitute(eval(quote(expr), envir)))",
      "7. eval(expr, p)",
      "8. eval(expr, p)",
      "9. eval(quote({\n .     vers <- getRversion()\n .     if (vers >= \"3.6\") {\n .         stop(\"With R version 3.5 or greater, install Bioconductor \", \n .             \"packages using BiocManager; see https://bioconductor.org/install\", \n .             call. = FALSE)\n .     }\n .     biocVers <- tryCatch({\n .         BiocInstaller::biocVersion()\n .     }, error = function(...) {\n .         BioC_version_associated_with_R_version <- get(\".BioC_version_associated_with_R_version\", \n .             envir = asNamespace(\"tools\"), inherits = FALSE)\n .         if (is.function(BioC_version_associated_with_R_version)) BioC_version_associated_with_R_version() else BioC_version_associated_with_R_version\n .     })\n .     if (vers < \"3.0\") {\n .         txt <- strwrap(\"A new version of Bioconductor is available\\n            after installing the most recent version of R; see\\n            http://bioconductor.org/install\", \n .             exdent = 2)\n .         message(paste(txt, collapse = \"\\n\"))\n .     } else if (\"package:BiocInstaller\" %in% search()) {\n .         tryCatch(BiocInstaller:::.onAttach(), error = function(...) NULL)\n .     }\n .     if (vers > \"2.13\" && biocVers > \"2.8\") {\n .         if (exists(\"biocLite\", .GlobalEnv, inherits = FALSE)) {\n .             txt <- strwrap(\"There is an outdated biocLite() function in the\\n                global environment; run 'rm(biocLite)' and try again.\")\n .             stop(\"\\n\", paste(txt, collapse = \"\\n\"))\n .         }\n .         if (!suppressWarnings(require(\"BiocInstaller\", quietly = TRUE))) {\n .             a <- NULL\n .             p <- file.path(Sys.getenv(\"HOME\"), \".R\", \"repositories\")\n .             if (file.exists(p)) {\n .                 a <- tools:::.read_repositories(p)\n .                 if (!\"BioCsoft\" %in% rownames(a)) a <- NULL\n .             }\n .             if (is.null(a)) {\n .                 p <- file.path(R.home(\"etc\"), \"repositories\")\n .                 a <- tools:::.read_repositories(p)\n .             }\n .             if (!\"package:utils\" %in% search()) {\n .                 path <- \"//bioconductor.org/biocLite.R\"\n .                 txt <- sprintf(\"use 'source(\\\"https:%s\\\")' or\\n                    'source(\\\"http:%s\\\")' to update 'BiocInstaller' after\\n                    library(\\\"utils\\\")\", \n .                   path, path)\n .                 message(paste(strwrap(txt), collapse = \"\\n  \"))\n .             } else {\n .                 if (vers >= \"3.2.2\" && vers < \"3.3.0\") {\n .                   con <- file(fl <- tempfile(), \"w\")\n .                   sink(con, type = \"message\")\n .                   tryCatch({\n .                     xx <- close(file(\"https://bioconductor.org\"))\n .                   }, error = function(e) {\n .                     message(conditionMessage(e))\n .                   })\n .                   sink(type = \"message\")\n .                   close(con)\n .                   if (!length(readLines(fl))) a[\"BioCsoft\", \"URL\"] <- sub(\"^http:\", \n .                     \"https:\", a[\"BioCsoft\", \"URL\"])\n .                 }\n .                 if (vers >= \"3.5.0\") {\n .                   a[\"BioCsoft\", \"URL\"] <- sub(as.character(biocVers), \n .                     \"3.7\", a[\"BioCsoft\", \"URL\"])\n .                 } else if (vers >= \"3.4.0\") {\n .                   a[\"BioCsoft\", \"URL\"] <- sub(as.character(biocVers), \n .                     \"3.6\", a[\"BioCsoft\", \"URL\"])\n .                 } else if (vers >= \"3.3.0\") {\n .                   a[\"BioCsoft\", \"URL\"] <- sub(as.character(biocVers), \n .                     \"3.4\", a[\"BioCsoft\", \"URL\"])\n .                 } else if (vers >= \"3.2\") {\n .                   a[\"BioCsoft\", \"URL\"] <- sub(as.character(biocVers), \n .                     \"3.2\", a[\"BioCsoft\", \"URL\"])\n .                 } else if (vers == \"3.1.1\") {\n .                   a[\"BioCsoft\", \"URL\"] <- sub(as.character(biocVers), \n .                     \"3.0\", a[\"BioCsoft\", \"URL\"])\n .                 } else if (vers == \"3.1.0\") {\n .                   a[\"BioCsoft\", \"URL\"] <- sub(as.character(biocVers), \n .                     \"2.14\", a[\"BioCsoft\", \"URL\"])\n .                 } else if (vers >= \"2.15\" && vers < \"2.16\") {\n .                   a[\"BioCsoft\", \"URL\"] <- sub(as.character(biocVers), \n .                     \"2.11\", a[\"BioCsoft\", \"URL\"])\n .                   biocVers <- numeric_version(\"2.11\")\n .                 }\n .                 install.packages(\"BiocInstaller\", repos = a[\"BioCsoft\", \n .                   \"URL\"])\n .                 if (!suppressWarnings(require(\"BiocInstaller\", \n .                   quietly = TRUE))) {\n .                   path0 <- \"//bioconductor.org/packages\"\n .                   path <- sprintf(\"%s/%s/bioc\", path0, as.character(biocVers))\n .                   txt0 <- \"'biocLite.R' failed to install 'BiocInstaller',\\n                        use 'install.packages(\\\"BiocInstaller\\\",\\n                        repos=\\\"https:%s\\\")' or\\n                        'install.packages(\\\"BiocInstaller\\\", repos=\\\"http:%s\\\")'\"\n .                   txt <- sprintf(txt0, path, path)\n .                   message(paste(strwrap(txt), collapse = \"\\n  \"))\n .                 }\n .             }\n .         } else {\n .             installerVersion <- utils::packageVersion(\"BiocInstaller\")\n .             test0 <- (vers > \"3.1.2\") && !identical(getOption(\"pkgType\"), \n .                 \"source\") && (installerVersion >= \"1.16.0\") && \n .                 (installerVersion <= \"1.16.4\")\n .             if (test0) {\n .                 if (installerVersion < \"1.16.4\") {\n .                   txt <- \"Update BiocInstaller with\\n                         oldPkgType=options(pkgType=\\\"source\\\");\\n                         biocLite(\\\"BiocInstaller\\\"); options(oldPkgType)\"\n .                   message(paste(strwrap(txt, exdent = 2), collapse = \"\\n\"))\n .                 }\n .                 if (vers >= \"3.2\") {\n .                   path <- \"//bioconductor.org/biocLite.R\"\n .                   txt <- sprintf(\"BiocInstaller version %s is too old for\\n                         R version %s; remove.packages(\\\"BiocInstaller\\\"),\\n                         re-start R, then source(\\\"https:%s\\\") or\\n                         source(\\\"http:%s\\\")\", \n .                     biocVers, vers, path, path)\n .                   warning(paste(strwrap(txt, exdent = 2), collapse = \"\\n\"))\n .                 }\n .             }\n .         }\n .     } else {\n .         tryCatch({\n .             source(\"https://bioconductor.org/getBioC.R\")\n .         }, error = function(e) {\n .             warning(\"https: failed (\", conditionMessage(e), \"), trying http\", \n .                 immediate. = TRUE)\n .             source(\"http://bioconductor.org/getBioC.R\")\n .         })\n .         biocLite <<- function(pkgs, groupName = \"lite\", ...) {\n .             if (missing(pkgs)) biocinstall(groupName = groupName, \n .                 ...) else biocinstall(pkgs = pkgs, groupName = groupName, \n .                 ...)\n .         }\n .     }\n . }), new.env())",
      "10. eval(quote({\n  .     vers <- getRversion()\n  .     if (vers >= \"3.6\") {\n  .         stop(\"With R version 3.5 or greater, install Bioconductor \", \n  .             \"packages using BiocManager; see https://bioconductor.org/install\", \n  .             call. = FALSE)\n  .     }\n  .     biocVers <- tryCatch({\n  .         BiocInstaller::biocVersion()\n  .     }, error = function(...) {\n  .         BioC_version_associated_with_R_version <- get(\".BioC_version_associated_with_R_version\", \n  .             envir = asNamespace(\"tools\"), inherits = FALSE)\n  .         if (is.function(BioC_version_associated_with_R_version)) BioC_version_associated_with_R_version() else BioC_version_associated_with_R_version\n  .     })\n  .     if (vers < \"3.0\") {\n  .         txt <- strwrap(\"A new version of Bioconductor is available\\n            after installing the most recent version of R; see\\n            http://bioconductor.org/install\", \n  .             exdent = 2)\n  .         message(paste(txt, collapse = \"\\n\"))\n  .     } else if (\"package:BiocInstaller\" %in% search()) {\n  .         tryCatch(BiocInstaller:::.onAttach(), error = function(...) NULL)\n  .     }\n  .     if (vers > \"2.13\" && biocVers > \"2.8\") {\n  .         if (exists(\"biocLite\", .GlobalEnv, inherits = FALSE)) {\n  .             txt <- strwrap(\"There is an outdated biocLite() function in the\\n                global environment; run 'rm(biocLite)' and try again.\")\n  .             stop(\"\\n\", paste(txt, collapse = \"\\n\"))\n  .         }\n  .         if (!suppressWarnings(require(\"BiocInstaller\", quietly = TRUE))) {\n  .             a <- NULL\n  .             p <- file.path(Sys.getenv(\"HOME\"), \".R\", \"repositories\")\n  .             if (file.exists(p)) {\n  .                 a <- tools:::.read_repositories(p)\n  .                 if (!\"BioCsoft\" %in% rownames(a)) a <- NULL\n  .             }\n  .             if (is.null(a)) {\n  .                 p <- file.path(R.home(\"etc\"), \"repositories\")\n  .                 a <- tools:::.read_repositories(p)\n  .             }\n  .             if (!\"package:utils\" %in% search()) {\n  .                 path <- \"//bioconductor.org/biocLite.R\"\n  .                 txt <- sprintf(\"use 'source(\\\"https:%s\\\")' or\\n                    'source(\\\"http:%s\\\")' to update 'BiocInstaller' after\\n                    library(\\\"utils\\\")\", \n  .                   path, path)\n  .                 message(paste(strwrap(txt), collapse = \"\\n  \"))\n  .             } else {\n  .                 if (vers >= \"3.2.2\" && vers < \"3.3.0\") {\n  .                   con <- file(fl <- tempfile(), \"w\")\n  .                   sink(con, type = \"message\")\n  .                   tryCatch({\n  .                     xx <- close(file(\"https://bioconductor.org\"))\n  .                   }, error = function(e) {\n  .                     message(conditionMessage(e))\n  .                   })\n  .                   sink(type = \"message\")\n  .                   close(con)\n  .                   if (!length(readLines(fl))) a[\"BioCsoft\", \"URL\"] <- sub(\"^http:\", \n  .                     \"https:\", a[\"BioCsoft\", \"URL\"])\n  .                 }\n  .                 if (vers >= \"3.5.0\") {\n  .                   a[\"BioCsoft\", \"URL\"] <- sub(as.character(biocVers), \n  .                     \"3.7\", a[\"BioCsoft\", \"URL\"])\n  .                 } else if (vers >= \"3.4.0\") {\n  .                   a[\"BioCsoft\", \"URL\"] <- sub(as.character(biocVers), \n  .                     \"3.6\", a[\"BioCsoft\", \"URL\"])\n  .                 } else if (vers >= \"3.3.0\") {\n  .                   a[\"BioCsoft\", \"URL\"] <- sub(as.character(biocVers), \n  .                     \"3.4\", a[\"BioCsoft\", \"URL\"])\n  .                 } else if (vers >= \"3.2\") {\n  .                   a[\"BioCsoft\", \"URL\"] <- sub(as.character(biocVers), \n  .                     \"3.2\", a[\"BioCsoft\", \"URL\"])\n  .                 } else if (vers == \"3.1.1\") {\n  .                   a[\"BioCsoft\", \"URL\"] <- sub(as.character(biocVers), \n  .                     \"3.0\", a[\"BioCsoft\", \"URL\"])\n  .                 } else if (vers == \"3.1.0\") {\n  .                   a[\"BioCsoft\", \"URL\"] <- sub(as.character(biocVers), \n  .                     \"2.14\", a[\"BioCsoft\", \"URL\"])\n  .                 } else if (vers >= \"2.15\" && vers < \"2.16\") {\n  .                   a[\"BioCsoft\", \"URL\"] <- sub(as.character(biocVers), \n  .                     \"2.11\", a[\"BioCsoft\", \"URL\"])\n  .                   biocVers <- numeric_version(\"2.11\")\n  .                 }\n  .                 install.packages(\"BiocInstaller\", repos = a[\"BioCsoft\", \n  .                   \"URL\"])\n  .                 if (!suppressWarnings(require(\"BiocInstaller\", \n  .                   quietly = TRUE))) {\n  .                   path0 <- \"//bioconductor.org/packages\"\n  .                   path <- sprintf(\"%s/%s/bioc\", path0, as.character(biocVers))\n  .                   txt0 <- \"'biocLite.R' failed to install 'BiocInstaller',\\n                        use 'install.packages(\\\"BiocInstaller\\\",\\n                        repos=\\\"https:%s\\\")' or\\n                        'install.packages(\\\"BiocInstaller\\\", repos=\\\"http:%s\\\")'\"\n  .                   txt <- sprintf(txt0, path, path)\n  .                   message(paste(strwrap(txt), collapse = \"\\n  \"))\n  .                 }\n  .             }\n  .         } else {\n  .             installerVersion <- utils::packageVersion(\"BiocInstaller\")\n  .             test0 <- (vers > \"3.1.2\") && !identical(getOption(\"pkgType\"), \n  .                 \"source\") && (installerVersion >= \"1.16.0\") && \n  .                 (installerVersion <= \"1.16.4\")\n  .             if (test0) {\n  .                 if (installerVersion < \"1.16.4\") {\n  .                   txt <- \"Update BiocInstaller with\\n                         oldPkgType=options(pkgType=\\\"source\\\");\\n                         biocLite(\\\"BiocInstaller\\\"); options(oldPkgType)\"\n  .                   message(paste(strwrap(txt, exdent = 2), collapse = \"\\n\"))\n  .                 }\n  .                 if (vers >= \"3.2\") {\n  .                   path <- \"//bioconductor.org/biocLite.R\"\n  .                   txt <- sprintf(\"BiocInstaller version %s is too old for\\n                         R version %s; remove.packages(\\\"BiocInstaller\\\"),\\n                         re-start R, then source(\\\"https:%s\\\") or\\n                         source(\\\"http:%s\\\")\", \n  .                     biocVers, vers, path, path)\n  .                   warning(paste(strwrap(txt, exdent = 2), collapse = \"\\n\"))\n  .                 }\n  .             }\n  .         }\n  .     } else {\n  .         tryCatch({\n  .             source(\"https://bioconductor.org/getBioC.R\")\n  .         }, error = function(e) {\n  .             warning(\"https: failed (\", conditionMessage(e), \"), trying http\", \n  .                 immediate. = TRUE)\n  .             source(\"http://bioconductor.org/getBioC.R\")\n  .         })\n  .         biocLite <<- function(pkgs, groupName = \"lite\", ...) {\n  .             if (missing(pkgs)) biocinstall(groupName = groupName, \n  .                 ...) else biocinstall(pkgs = pkgs, groupName = groupName, \n  .                 ...)\n  .         }\n  .     }\n  . }), new.env())",
      "11. stop(\"With R version 3.5 or greater, install Bioconductor \", \n  .     \"packages using BiocManager; see https://bioconductor.org/install\", \n  .     call. = FALSE)"
     ]
    }
   ],
   "source": [
    "install.packages(\"tidyverse\")\n",
    "install.packages(\"rmarkdown\")\n",
    "install.packages(\"ggplot2\") \n",
    "install.packages(\"caret\")\n",
    "install.packages(\"devtools\")\n",
    "install.packages(\"dplyr\")\n",
    "install.packages(\"rJava\",,\"http://rforge.net/\",type=\"source\")\n",
    "install.packages(\"RWeka\")\n",
    "install.packages(\"infotheo\")\n",
    "install.packages(\"pROC\")\n",
    "install.packages(\"reshape2\")\n",
    "install.packages(\"corrplot\")\n",
    "install.packages(\"Hmisc\") \n",
    "install.packages(\"Matrix\") \n",
    "install.packages(\"randomForest\") \n",
    "install.packages(\"glmnet\") \n",
    "install.packages(\"gbm\")\n",
    "install.packages(\"e1071\")\n",
    "install.packages(\"pamr\")\n",
    "\n",
    "source(\"https://bioconductor.org/biocLite.R\")\n",
    "biocLite(\"pathifier\")"
   ]
  },
  {
   "cell_type": "code",
   "execution_count": 1,
   "metadata": {},
   "outputs": [
    {
     "data": {
      "text/html": [
       "'/Users/rrrrrita/Downloads/lilikoi-master'"
      ],
      "text/latex": [
       "'/Users/rrrrrita/Downloads/lilikoi-master'"
      ],
      "text/markdown": [
       "'/Users/rrrrrita/Downloads/lilikoi-master'"
      ],
      "text/plain": [
       "[1] \"/Users/rrrrrita/Downloads/lilikoi-master\""
      ]
     },
     "metadata": {},
     "output_type": "display_data"
    }
   ],
   "source": [
    "getwd()"
   ]
  },
  {
   "cell_type": "markdown",
   "metadata": {},
   "source": [
    "#### Lilikoi: an R package of personalized metabolomics pathway analysis\n",
    "#### Lilikoi is a novel tool for personalized pathway analysis of metabolomics data. \n",
    "#### It has four modules:\n",
    "* feature mapper, dimension transformation, feature selection, and classification and prediction.\n",
    "<img src=\"inst/extdata/FIG1.JPG\">"
   ]
  },
  {
   "cell_type": "code",
   "execution_count": 8,
   "metadata": {},
   "outputs": [
    {
     "name": "stderr",
     "output_type": "stream",
     "text": [
      "Warning message in install.packages(\"devtools\", \"/home/rrrrrita/anaconda3/lib/R/library\"):\n",
      "“'lib = \"/home/rrrrrita/anaconda3/lib/R/library\"' is not writable”"
     ]
    },
    {
     "ename": "ERROR",
     "evalue": "Error in install.packages(\"devtools\", \"/home/rrrrrita/anaconda3/lib/R/library\"): unable to install packages\n",
     "output_type": "error",
     "traceback": [
      "Error in install.packages(\"devtools\", \"/home/rrrrrita/anaconda3/lib/R/library\"): unable to install packages\nTraceback:\n",
      "1. install.packages(\"devtools\", \"/home/rrrrrita/anaconda3/lib/R/library\")",
      "2. stop(\"unable to install packages\")"
     ]
    }
   ],
   "source": [
    "install.packages(\"devtools\", \"/home/rrrrrita/anaconda3/lib/R/library\")"
   ]
  },
  {
   "cell_type": "code",
   "execution_count": 12,
   "metadata": {},
   "outputs": [
    {
     "name": "stderr",
     "output_type": "stream",
     "text": [
      "Downloading GitHub repo FADHLyemen/lilikoi_Fadhl@master\n",
      "Warning message in system(cmd):\n",
      "“error in running command”Warning message in utils::untar(tarfile, ...):\n",
      "“‘/usr/local/bin/gtar -xf '/var/folders/jh/qnytjxpx13j0l4yl2b8j83wm0000gn/T//RtmpEKFlsW/file3cf64472349d.tar.gz' -C '/var/folders/jh/qnytjxpx13j0l4yl2b8j83wm0000gn/T//RtmpEKFlsW/remotes3cf625dc5286'’ returned error code 127”"
     ]
    },
    {
     "ename": "ERROR",
     "evalue": "Error in system(cmd, intern = TRUE): error in running command\n",
     "output_type": "error",
     "traceback": [
      "Error in system(cmd, intern = TRUE): error in running command\nTraceback:\n",
      "1. devtools::install_github(\"FADHLyemen/lilikoi_Fadhl\")",
      "2. install_remotes(remotes, auth_token = auth_token, host = host, \n .     dependencies = dependencies, upgrade = upgrade, force = force, \n .     quiet = quiet, build = build, build_opts = build_opts, repos = repos, \n .     type = type, ...)",
      "3. vapply(remotes, install_remote, ..., FUN.VALUE = character(1))",
      "4. FUN(X[[i]], ...)",
      "5. source_pkg(bundle, subdir = remote$subdir)",
      "6. decompress(path, outdir)",
      "7. getrootdir(untar(src, list = TRUE))",
      "8. stopifnot(length(file_list) > 0)",
      "9. untar(src, list = TRUE)",
      "10. utils::untar(tarfile, ...)",
      "11. system(cmd, intern = TRUE)"
     ]
    }
   ],
   "source": [
    " \n",
    "devtools::install_github(\"FADHLyemen/lilikoi_Fadhl\")\n",
    "# library(lilikoi)"
   ]
  },
  {
   "cell_type": "markdown",
   "metadata": {},
   "source": [
    "## Data format: \n",
    "### User recommends to save their data in csv format. Columns are metabolites and rows are samples. Case and control label should be saved in the second column such as the below raw data:\n",
    "#### Note: make sure to disable the check.names option in the read.csv"
   ]
  },
  {
   "cell_type": "code",
   "execution_count": 10,
   "metadata": {},
   "outputs": [
    {
     "name": "stderr",
     "output_type": "stream",
     "text": [
      "Warning message in file(file, \"rt\"):\n",
      "“file(\"\") only supports open = \"w+\" and open = \"w+b\": using the former”"
     ]
    },
    {
     "ename": "ERROR",
     "evalue": "Error in read.table(file = file, header = header, sep = sep, quote = quote, : no lines available in input\n",
     "output_type": "error",
     "traceback": [
      "Error in read.table(file = file, header = header, sep = sep, quote = quote, : no lines available in input\nTraceback:\n",
      "1. read.csv(data_dir, check.names = F, row.names = 1)",
      "2. read.table(file = file, header = header, sep = sep, quote = quote, \n .     dec = dec, fill = fill, comment.char = comment.char, ...)",
      "3. stop(\"no lines available in input\")"
     ]
    }
   ],
   "source": [
    "data_dir=system.file(\"extdata\", \"plasma_breast_cancer.csv\", package = \"lilikoi\")\n",
    "plasma_data=read.csv(data_dir,check.names=F,row.names=1)\n",
    "head(plasma_data)\n",
    "dim(plasma_data)\n",
    "table(plasma_data$Label)"
   ]
  },
  {
   "cell_type": "markdown",
   "metadata": {},
   "source": [
    "## The above data set is the metabolomics cohort which  is composed of 126 breast cancer and 81 control plasma samples from City of Hope Hospital (COH) \n",
    "https://www.ncbi.nlm.nih.gov/pmc/articles/PMC4818393/"
   ]
  },
  {
   "cell_type": "markdown",
   "metadata": {},
   "source": [
    "## I- Load the data using Lilikoi Loaddata function"
   ]
  },
  {
   "cell_type": "code",
   "execution_count": null,
   "metadata": {},
   "outputs": [],
   "source": [
    "Loaddata(file=system.file(\"extdata\", \"plasma_breast_cancer.csv\", package = \"lilikoi\"))"
   ]
  },
  {
   "cell_type": "markdown",
   "metadata": {},
   "source": [
    "## II- Transforms the metabolite names to the HMDB ids uisng Lilikoi MetaTOpathway function\n",
    "### Lilikoi allows the user to input any kind of metabolite IDs including metabolites names ('name') along with synonyms, KEGG IDs ('kegg'), HMDB IDs ('hmdb') and PubChem IDs ('pubchem'). \n",
    "### if the metabolites have a standard names as ID, Lilikoi will match these names among 100 k saved database, if there are not any hits, Lilikoi will perform fuzzy matching to find the closest matching for this metabolite.\n",
    "### The below flowchart will explain this matching process in more details.\n",
    "<img src=\"inst/extdata/matching.JPG\">"
   ]
  },
  {
   "cell_type": "code",
   "execution_count": null,
   "metadata": {},
   "outputs": [],
   "source": [
    "Metabolite_pathway_table=MetaTOpathway('name')\n",
    "head(Metabolite_pathway_table)"
   ]
  },
  {
   "cell_type": "code",
   "execution_count": null,
   "metadata": {},
   "outputs": [],
   "source": [
    "Query"
   ]
  },
  {
   "cell_type": "markdown",
   "metadata": {
    "collapsed": true
   },
   "source": [
    "## III- Transform metabolites into pathway using Pathifier algorithm\n",
    "https://www.bioconductor.org/packages/release/bioc/html/pathifier.html\n",
    "#### A specific pathway dysregulation score (PDS) is inferred to measure the abnormity for each sample in each pathway. For each pathway, the samples are mapped in a high dimensional principal component space and a principal curve is constructed along the samples and smoothed. The PDS score measures the distance from the projected dot along the curve to the centroid of normal samples (origin point of the curve)."
   ]
  },
  {
   "cell_type": "code",
   "execution_count": null,
   "metadata": {},
   "outputs": [],
   "source": [
    "PDSmatrix= PDSfun(Metabolite_pathway_table)"
   ]
  },
  {
   "cell_type": "markdown",
   "metadata": {},
   "source": [
    "### Using PDSfun, we generate a new matrix which has pathways as columns instead of metaboltes. "
   ]
  },
  {
   "cell_type": "code",
   "execution_count": null,
   "metadata": {},
   "outputs": [],
   "source": [
    "head(t(PDSmatrix))\n",
    "dim(t(PDSmatrix))"
   ]
  },
  {
   "cell_type": "markdown",
   "metadata": {},
   "source": [
    "## IV- Select the most signficant pathway related to phenotype.\n",
    "### We used two methods for pathway selection which are implemented in Weka package:\n",
    "https://cran.r-project.org/web/packages/RWeka/RWeka.pdf\n",
    "\n",
    "* information gain ('info') and \n",
    "* gain ratio ('gain')\n",
    "\n",
    "### If you did not get any selected pathwys, you can lower the threshold below 0.5"
   ]
  },
  {
   "cell_type": "code",
   "execution_count": null,
   "metadata": {},
   "outputs": [],
   "source": [
    "selected_Pathways_Weka= featuresSelection(PDSmatrix,threshold= 0.54,method=\"gain\")\n",
    "selected_Pathways_Weka"
   ]
  },
  {
   "cell_type": "markdown",
   "metadata": {},
   "source": [
    "## V- Classification and prediction \n",
    "### This function will randomly separate the PDS score matrix with only the selected pathways into training and testing sets. It will use seven widely used machine learning algorithms to build the classification model from the training set. It plots the pathway importance from each model and its accuracy (AUC, sensitivity, specificity). "
   ]
  },
  {
   "cell_type": "code",
   "execution_count": null,
   "metadata": {
    "scrolled": false
   },
   "outputs": [],
   "source": [
    "result=machine_learning(PDSmatrix,selected_Pathways_Weka);"
   ]
  },
  {
   "cell_type": "markdown",
   "metadata": {},
   "source": [
    "# VI- Model Adjustemnt using clinical factors such as Age and ethnicity\n",
    "## This function include the clinical factors included by the users and comput model performance using these factors. \n",
    "* Model will be created using only the best performed model from the last step\n",
    "* Make sure to include the metadata for each samples "
   ]
  },
  {
   "cell_type": "code",
   "execution_count": null,
   "metadata": {},
   "outputs": [],
   "source": [
    "clinical_factors_data=read.csv(file=system.file(\"extdata\", \"plasma_breast_cancer_Meta.csv\", package = \"lilikoi\")) \n",
    "head(clinical_factors_data)\n",
    "str(clinical_factors_data)"
   ]
  },
  {
   "cell_type": "code",
   "execution_count": null,
   "metadata": {
    "scrolled": false
   },
   "outputs": [],
   "source": [
    "lilikoi::model_adjustment(result,PDSmatrix,selected_Pathways_Weka,clinical_factors_data,factors=c('Age','Race'))"
   ]
  },
  {
   "cell_type": "code",
   "execution_count": null,
   "metadata": {},
   "outputs": [],
   "source": []
  }
 ],
 "metadata": {
  "kernelspec": {
   "display_name": "R",
   "language": "R",
   "name": "ir"
  },
  "language_info": {
   "codemirror_mode": "r",
   "file_extension": ".r",
   "mimetype": "text/x-r-source",
   "name": "R",
   "pygments_lexer": "r",
   "version": "3.6.1"
  }
 },
 "nbformat": 4,
 "nbformat_minor": 2
}
